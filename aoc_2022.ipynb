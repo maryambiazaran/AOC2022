{
 "cells": [
  {
   "cell_type": "code",
   "execution_count": 219,
   "id": "d949fa11",
   "metadata": {},
   "outputs": [],
   "source": [
    "import requests,configparser\n",
    "def get_cookie():\n",
    "    config = configparser.ConfigParser()\n",
    "    config.read('secrets.txt')\n",
    "    cookie = config['session_info']['cookie']\n",
    "    return cookie\n",
    "def get_inputs(day):\n",
    "    cookie, day = get_cookie(), int(day)\n",
    "    headers = {'session': cookie}\n",
    "    url = f'https://adventofcode.com/2022/day/{day}/input'\n",
    "    session = requests.Session()\n",
    "    resp = session.get(url,cookies=headers)\n",
    "    return resp.text.split('\\n')[:-1]"
   ]
  },
  {
   "cell_type": "code",
   "execution_count": 220,
   "id": "ec7af12a",
   "metadata": {},
   "outputs": [
    {
     "name": "stdout",
     "output_type": "stream",
     "text": [
      "Part 1: 72602\n",
      "Part 2: 207410\n"
     ]
    }
   ],
   "source": [
    "# DAY1\n",
    "import numpy as np\n",
    "\n",
    "def max_elf_snacks(data,top):\n",
    "    elf_food = [0]\n",
    "    for x in data:\n",
    "        if x != '':\n",
    "            elf_food[-1] += int(x)\n",
    "        else:\n",
    "            elf_food.append(0)\n",
    "    top_elves = np.argpartition(elf_food,-top)[-top:]\n",
    "    return sum(np.array(elf_food)[top_elves])\n",
    "\n",
    "print(f'Part 1: {max_elf_snacks(get_inputs(1),1)}')\n",
    "print(f'Part 2: {max_elf_snacks(get_inputs(1),3)}')\n"
   ]
  },
  {
   "cell_type": "code",
   "execution_count": 223,
   "id": "9a8cd94c",
   "metadata": {},
   "outputs": [
    {
     "name": "stdout",
     "output_type": "stream",
     "text": [
      "Part 1: 13268\n",
      "Part 2: 15508\n"
     ]
    }
   ],
   "source": [
    "# DAY2\n",
    "rps = {'A': [1,0,0],'B': [0,1,0], 'C': [0,0,1]}\n",
    "rewards = np.array([[3,0,6], [6,3,0], [0,6,3]])\n",
    "\n",
    "def rps_score(p,q):\n",
    "    return np.matmul(np.matmul(p,rewards.T),q.T).trace() + sum(np.matmul([1,2,3],q.T))\n",
    "\n",
    "def get_strategy(d, mode = 0):\n",
    "    if mode == 0:\n",
    "        # simple mode\n",
    "        s = {'X': [1,0,0], 'Y': [0,1,0], 'Z': [0,0,1]}\n",
    "    else:\n",
    "        # part 2\n",
    "        s = {'X': np.roll(rps[d[0]],-1),\n",
    "            'Y': rps[d[0]],\n",
    "            'Z': np.roll(rps[d[0]],+1)}\n",
    "    return s[d[1]]\n",
    "        \n",
    "    \n",
    "def get_moves(data, mode = 0):    \n",
    "    p = np.array([rps[d[0]] for d in data])\n",
    "    q = np.array([get_strategy(d,mode) for d in data])\n",
    "    return p,q\n",
    "\n",
    "def day2(d, mode = 0):\n",
    "    data = [tuple(x.split(' ')) for x in d]\n",
    "    return rps_score(*get_moves(data, mode))\n",
    "\n",
    "print(f'Part 1: {day2(get_inputs(2),0)}')\n",
    "print(f'Part 2: {day2(get_inputs(2),1)}')"
   ]
  },
  {
   "cell_type": "code",
   "execution_count": 222,
   "id": "645d9ad3",
   "metadata": {},
   "outputs": [
    {
     "name": "stdout",
     "output_type": "stream",
     "text": [
      "Part 1: 7967\n",
      "Part 2: 2716\n"
     ]
    }
   ],
   "source": [
    "# DAY3\n",
    "def get_priority(item):\n",
    "    return ord(item) - (96 if item.islower() else 64-26) \n",
    "        \n",
    "def common_item(sack):\n",
    "    h = int(len(sack)/2)\n",
    "    c = set(sack[:h]).intersection(set(sack[h:]))\n",
    "    for i in c:    \n",
    "        return get_priority(i)\n",
    "\n",
    "def common_item_3elf(sacks):\n",
    "    c = set.intersection(*[set(sack) for sack in sacks])\n",
    "    for i in c:    \n",
    "        return get_priority(i)\n",
    "\n",
    "def day3_p1():\n",
    "    return sum(common_item(x) for x in get_inputs(3))\n",
    "\n",
    "def day3_p2():\n",
    "    data, n = get_inputs(3), 3\n",
    "    chunk3 = [data[i:i+n] for i in range(0,len(data),n)]\n",
    "    return sum(common_item_3elf(x) for x in chunk3)\n",
    "\n",
    "print(f'Part 1: {day3_p1()}')\n",
    "print(f'Part 2: {day3_p2()}')"
   ]
  },
  {
   "cell_type": "code",
   "execution_count": 268,
   "id": "c7c326c9",
   "metadata": {},
   "outputs": [
    {
     "name": "stdout",
     "output_type": "stream",
     "text": [
      "Part 1: 424\n",
      "Part 2: 804\n"
     ]
    }
   ],
   "source": [
    "# DAY4\n",
    "import re\n",
    "s = [[int(x) for x in re.findall('(\\d+)',t)] for t in get_inputs(4)]\n",
    "day4_p1 = sum(1 for x in s if (x[0]-x[2])*(x[1]-x[3])<=0)\n",
    "day4_p2 = sum(1 for x in s if max(x)-min(x)<=x[3]-x[2]+x[1]-x[0])\n",
    "print(f'Part 1: {day4_p1}')\n",
    "print(f'Part 2: {day4_p2}')"
   ]
  },
  {
   "cell_type": "code",
   "execution_count": 345,
   "id": "96c5b8dd",
   "metadata": {},
   "outputs": [
    {
     "name": "stdout",
     "output_type": "stream",
     "text": [
      "Part 1: VCTFTJQCG\n",
      "Part 2: GCFGLDNJZ\n"
     ]
    }
   ],
   "source": [
    "# DAY5\n",
    "def get_stacks(data):\n",
    "    L = [[x for i,x in enumerate(line) if i%4==1] for line in d5[:d5.index('')-1]]\n",
    "    L = (np.array(L).T).tolist()\n",
    "    L = [l[::-1] for l in L]\n",
    "    for l in L:\n",
    "        while l[-1]==' ':\n",
    "            l.pop()\n",
    "    return L\n",
    "\n",
    "def get_move_instructions(data):\n",
    "    return [tuple(int(t) for t in re.findall('\\d+',x)) for x in data if x.startswith('move') ]\n",
    "\n",
    "def move_containers(stack,model,count,source,dest):\n",
    "    x = [stack[source-1].pop() for i in range(count)]\n",
    "    if model == 9000:\n",
    "        stack[dest-1] += x\n",
    "    else:\n",
    "        stack[dest-1] += x[::-1]\n",
    "\n",
    "def day5(model):\n",
    "    d5 = get_inputs(5)\n",
    "    stacks = get_stacks(d5)\n",
    "    instructions = get_move_instructions(d5)\n",
    "    for i in instructions:\n",
    "        move_containers(stacks, model, *i)\n",
    "    return ''.join([s.pop() for s in stacks])\n",
    "\n",
    "print(f'Part 1: {day5(9000)}')\n",
    "print(f'Part 2: {day5(9001)}')"
   ]
  }
 ],
 "metadata": {
  "kernelspec": {
   "display_name": "Python 3 (ipykernel)",
   "language": "python",
   "name": "python3"
  },
  "language_info": {
   "codemirror_mode": {
    "name": "ipython",
    "version": 3
   },
   "file_extension": ".py",
   "mimetype": "text/x-python",
   "name": "python",
   "nbconvert_exporter": "python",
   "pygments_lexer": "ipython3",
   "version": "3.10.7"
  }
 },
 "nbformat": 4,
 "nbformat_minor": 5
}
