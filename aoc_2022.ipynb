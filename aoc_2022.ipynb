{
 "cells": [
  {
   "cell_type": "code",
   "execution_count": 2,
   "id": "d949fa11",
   "metadata": {},
   "outputs": [],
   "source": [
    "import requests,configparser\n",
    "def get_cookie():\n",
    "    config = configparser.ConfigParser()\n",
    "    config.read('secrets.txt')\n",
    "    cookie = config['session_info']['cookie']\n",
    "    return cookie\n",
    "def get_inputs(day):\n",
    "    cookie, day = get_cookie(), int(day)\n",
    "    headers = {'session': cookie}\n",
    "    url = f'https://adventofcode.com/2022/day/{day}/input'\n",
    "    session = requests.Session()\n",
    "    resp = session.get(url,cookies=headers)\n",
    "    return resp.text.split('\\n')[:-1]"
   ]
  },
  {
   "cell_type": "code",
   "execution_count": 7,
   "id": "ec7af12a",
   "metadata": {},
   "outputs": [
    {
     "name": "stdout",
     "output_type": "stream",
     "text": [
      "Part 1: 72602\n",
      "Part 2: 207410\n"
     ]
    }
   ],
   "source": [
    "# DAY1\n",
    "import numpy as np\n",
    "\n",
    "def max_elf_snacks(data,top):\n",
    "    elf_food = [0]\n",
    "    for x in data:\n",
    "        if x != '':\n",
    "            elf_food[-1] += int(x)\n",
    "        else:\n",
    "            elf_food.append(0)\n",
    "    top_elves = np.argpartition(elf_food,-top)[-top:]\n",
    "    return sum(np.array(elf_food)[top_elves])\n",
    "\n",
    "print(f'Part 1: {max_elf_snacks(get_inputs(1),1)}')\n",
    "print(f'Part 2: {max_elf_snacks(get_inputs(1),3)}')\n"
   ]
  },
  {
   "cell_type": "code",
   "execution_count": null,
   "id": "645d9ad3",
   "metadata": {},
   "outputs": [],
   "source": []
  }
 ],
 "metadata": {
  "kernelspec": {
   "display_name": "Python 3 (ipykernel)",
   "language": "python",
   "name": "python3"
  },
  "language_info": {
   "codemirror_mode": {
    "name": "ipython",
    "version": 3
   },
   "file_extension": ".py",
   "mimetype": "text/x-python",
   "name": "python",
   "nbconvert_exporter": "python",
   "pygments_lexer": "ipython3",
   "version": "3.10.7"
  }
 },
 "nbformat": 4,
 "nbformat_minor": 5
}
